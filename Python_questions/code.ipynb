{
 "cells": [
  {
   "cell_type": "markdown",
   "metadata": {},
   "source": [
    "### Question: 1\n",
    "\n",
    "\n",
    "You have an input dictionary given,\n",
    "\n",
    "input_dict = {\"abc\":{\"def\":{\"ghi\":{\"jkl\":{\"mno\":{\"pqr\":{\"stu\":{\"vwx\":{\"yz\":\"you are finally here !!!\"}}}}}}}}}\n",
    "\n",
    "Task:  You have to write a Python function that will take this input and print it like that,\n",
    "\n",
    "output = {\"abc\":[\"def\",\"ghi\",\"jkl\",\"mno\",\"pqr\",\"stu\",\"vwx\",\"yz\"],\n",
    " \"def\":[\"ghi\",\"jkl\",\"mno\",\"pqr\",\"stu\",\"vwx\",\"yz\"],\n",
    " \"ghi\":[\"jkl\",\"mno\",\"pqr\",\"stu\",\"vwx\",\"yz\"],\n",
    " \"jkl\":[\"mno\",\"pqr\",\"stu\",\"vwx\",\"yz\"],\n",
    " \"mno\":[\"pqr\",\"stu\",\"vwx\",\"yz\"],\n",
    " \"pqr\":[\"stu\",\"vwx\",\"yz\"],\n",
    " \"stu\":[\"vwx\",\"yz\"],\n",
    " \"vwx\":[\"yz\"],\n",
    " \"yz\":[\"you are finally here !!!\"]}\n"
   ]
  },
  {
   "cell_type": "code",
   "execution_count": 2,
   "metadata": {},
   "outputs": [],
   "source": [
    "input_dict = {\"abc\":{\"def\":{\"ghi\":{\"jkl\":{\"mno\":{\"pqr\":{\"stu\":{\"vwx\":{\"yz\":\"you are finally here !!!\"}}}}}}}}}"
   ]
  },
  {
   "cell_type": "code",
   "execution_count": 38,
   "metadata": {},
   "outputs": [],
   "source": [
    "def get_dict_list(input_dict):\n",
    "\n",
    "    if type(input_dict) != dict:\n",
    "        return input_dict\n",
    "    key = list(input_dict.keys())\n",
    "    response = {key[0]:[]}\n",
    "    value=get_dict_list(input_dict[key[0]])\n",
    "    if type(value) != dict:\n",
    "        response[key[0]] = value\n",
    "    else:\n",
    "        response[key[0]] = list(value.keys())\n",
    "        response.update(value)\n",
    "    return response\n",
    "\n",
    "\n",
    "\n"
   ]
  },
  {
   "cell_type": "code",
   "execution_count": 39,
   "metadata": {},
   "outputs": [
    {
     "data": {
      "text/plain": [
       "{'abc': ['def', 'ghi', 'jkl', 'mno', 'pqr', 'stu', 'vwx', 'yz'],\n",
       " 'def': ['ghi', 'jkl', 'mno', 'pqr', 'stu', 'vwx', 'yz'],\n",
       " 'ghi': ['jkl', 'mno', 'pqr', 'stu', 'vwx', 'yz'],\n",
       " 'jkl': ['mno', 'pqr', 'stu', 'vwx', 'yz'],\n",
       " 'mno': ['pqr', 'stu', 'vwx', 'yz'],\n",
       " 'pqr': ['stu', 'vwx', 'yz'],\n",
       " 'stu': ['vwx', 'yz'],\n",
       " 'vwx': ['yz'],\n",
       " 'yz': 'you are finally here !!!'}"
      ]
     },
     "execution_count": 39,
     "metadata": {},
     "output_type": "execute_result"
    }
   ],
   "source": [
    "get_dict_list(input_dict)"
   ]
  },
  {
   "cell_type": "markdown",
   "metadata": {},
   "source": [
    "### Question: 2\n",
    "\n",
    "\n",
    "Given an array of length ‘N’, where each element denotes the position of a stall. Now you have ‘N’ stalls and an integer ‘K’ which denotes the number of horses that are mad. To prevent the horses from hurting each other, you need to assign the horses to the stalls, such that the minimum distance between any two of them is as large as possible. Return the largest minimum distance.\n",
    "\n",
    "array: 1,2,4,8,9  &  k=3\n",
    "\n",
    "O/P: 3"
   ]
  },
  {
   "cell_type": "code",
   "execution_count": 43,
   "metadata": {},
   "outputs": [],
   "source": [
    "arr = [1,2,4,8,9]\n",
    "K=3\n",
    "N= len(arr)"
   ]
  },
  {
   "cell_type": "code",
   "execution_count": 44,
   "metadata": {},
   "outputs": [],
   "source": [
    "def ok(v,x,c):\n",
    "    n=len(v)\n",
    "    count=1\n",
    "    d=v[0]\n",
    "    for i in range(1,n):\n",
    "        if(v[i]-d>=x):\n",
    "            d=v[i]\n",
    "            count=count+1\n",
    "        else:\n",
    "            continue\n",
    "    if(count>=c):\n",
    "        return True\n",
    "     \n",
    "    return False\n",
    "\n",
    "def horse_stall(a,k,n):\n",
    "    min_max_len = -1\n",
    "    maxdis = 0\n",
    "    for i in range(n):\n",
    "        maxdis = max(maxdis, a[i])\n",
    "    \n",
    "    for i in range(1,maxdis+1):\n",
    "        if(ok(a,i,k)):\n",
    "            ans=i\n",
    "        else:\n",
    "            break\n",
    "     \n",
    "    return ans"
   ]
  },
  {
   "cell_type": "code",
   "execution_count": 45,
   "metadata": {},
   "outputs": [
    {
     "data": {
      "text/plain": [
       "3"
      ]
     },
     "execution_count": 45,
     "metadata": {},
     "output_type": "execute_result"
    }
   ],
   "source": [
    "horse_stall(arr,K,N)"
   ]
  },
  {
   "cell_type": "markdown",
   "metadata": {},
   "source": [
    "### Question: 3\n",
    "\n",
    "Mr. Karthiken works in a door mat manufacturing company. One day, he designed a new door mat with the following specifications:\n",
    "\n",
    "             a) Mat size must be N X M. (N is an odd natural number, and M is 3 times N.)\n",
    "              b) The design should have ‘WELCOME’ written in the center.\n",
    "              c) The design pattern should only use |, . and – characters.\n",
    "\n",
    "    Sample Design is given above image, Write a python code for this."
   ]
  },
  {
   "cell_type": "code",
   "execution_count": null,
   "metadata": {},
   "outputs": [],
   "source": []
  },
  {
   "cell_type": "markdown",
   "metadata": {},
   "source": [
    "### Question: 4\n",
    "\n",
    "Given an array nums of n integers, return an array of all the unique quadruplets [nums[a], nums[b], nums[c], nums[d]] such that:\n",
    "\n",
    "   a) 0 <= a, b, c, d < n\n",
    "   b) a, b, c, and d are distinct.\n",
    "   c) nums[a] + nums[b] + nums[c] + nums[d] == target"
   ]
  },
  {
   "cell_type": "code",
   "execution_count": 72,
   "metadata": {},
   "outputs": [],
   "source": [
    "class pairs:\n",
    "    def __init__(self, x,y):\n",
    "        self.index1 = x\n",
    "        self.index2 = y\n",
    "\n",
    "def get_quadruplets(arr, target):\n",
    "    # print(sum(arr))\n",
    "    \n",
    "    map = {}\n",
    "    for i in range(len(arr) - 1):\n",
    "        for j in range(i+1, len(arr)):\n",
    "\n",
    "            sum = arr[i]+arr[j]\n",
    "            if sum not in map:\n",
    "                map[sum]=[pairs(i,j)]\n",
    "            else:\n",
    "                map[sum].append(pairs(i,j))\n",
    "    print(map)\n",
    "    quadruplets = set()\n",
    "\n",
    "    for i in range(len(arr) - 1):\n",
    "        for j in range(i+1 ,len(arr)):\n",
    "            remaning = target - (arr[i]+arr[j])\n",
    "\n",
    "            if remaning in map:\n",
    "                temp = map[remaning]\n",
    "                for pair in temp:\n",
    "                    if pair.index1 != i and pair.index1 != j and pair.index2 != i and pair.index2 != j:\n",
    "                        l1 = [arr[pair.index1], arr[pair.index2], arr[i], arr[j]]\n",
    "                        l1.sort()\n",
    "\n",
    "                        quadruplets.add(tuple(l1))\n",
    "    return list(quadruplets)\n"
   ]
  },
  {
   "cell_type": "code",
   "execution_count": 75,
   "metadata": {},
   "outputs": [
    {
     "name": "stdout",
     "output_type": "stream",
     "text": [
      "{4: [<__main__.pairs object at 0x7f75df67f890>, <__main__.pairs object at 0x7f75df67d810>, <__main__.pairs object at 0x7f75fc643650>, <__main__.pairs object at 0x7f75fc643910>, <__main__.pairs object at 0x7f75fc10e850>, <__main__.pairs object at 0x7f75fc10c4d0>, <__main__.pairs object at 0x7f75fc10eb50>, <__main__.pairs object at 0x7f75fc10d350>, <__main__.pairs object at 0x7f75fc10ee10>, <__main__.pairs object at 0x7f75df67ea50>]}\n"
     ]
    },
    {
     "data": {
      "text/plain": [
       "[(2, 2, 2, 2)]"
      ]
     },
     "execution_count": 75,
     "metadata": {},
     "output_type": "execute_result"
    }
   ],
   "source": [
    "arr = [2,2,2,2,2]\n",
    "target = 8\n",
    "get_quadruplets(arr, target)"
   ]
  },
  {
   "cell_type": "code",
   "execution_count": null,
   "metadata": {},
   "outputs": [],
   "source": []
  },
  {
   "cell_type": "code",
   "execution_count": null,
   "metadata": {},
   "outputs": [],
   "source": []
  }
 ],
 "metadata": {
  "kernelspec": {
   "display_name": "handsonml",
   "language": "python",
   "name": "python3"
  },
  "language_info": {
   "codemirror_mode": {
    "name": "ipython",
    "version": 3
   },
   "file_extension": ".py",
   "mimetype": "text/x-python",
   "name": "python",
   "nbconvert_exporter": "python",
   "pygments_lexer": "ipython3",
   "version": "3.11.5"
  }
 },
 "nbformat": 4,
 "nbformat_minor": 2
}
