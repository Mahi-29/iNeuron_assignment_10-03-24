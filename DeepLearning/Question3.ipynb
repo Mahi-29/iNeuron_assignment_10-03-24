{
  "nbformat": 4,
  "nbformat_minor": 0,
  "metadata": {
    "colab": {
      "provenance": []
    },
    "kernelspec": {
      "name": "python3",
      "display_name": "Python 3"
    },
    "language_info": {
      "name": "python"
    }
  },
  "cells": [
    {
      "cell_type": "code",
      "execution_count": 1,
      "metadata": {
        "id": "Eu59JJrRO45r"
      },
      "outputs": [],
      "source": [
        "from sklearn.datasets import fetch_california_housing"
      ]
    },
    {
      "cell_type": "code",
      "source": [
        "data = fetch_california_housing()"
      ],
      "metadata": {
        "id": "eaDouZ7DPJij"
      },
      "execution_count": 2,
      "outputs": []
    },
    {
      "cell_type": "code",
      "source": [
        "X = data[\"data\"]\n",
        "y= data['target']"
      ],
      "metadata": {
        "id": "QmMEfZi5PL5L"
      },
      "execution_count": 4,
      "outputs": []
    },
    {
      "cell_type": "code",
      "source": [
        "from keras import layers\n",
        "from keras import Sequential\n",
        "from sklearn.model_selection import train_test_split"
      ],
      "metadata": {
        "id": "EpwHPubePTd0"
      },
      "execution_count": 5,
      "outputs": []
    },
    {
      "cell_type": "code",
      "source": [
        "X_train, X_test, y_train, y_test = train_test_split(X, y, test_size = 0.2, random_state = 10)"
      ],
      "metadata": {
        "id": "zn8-DGEWPlgC"
      },
      "execution_count": 10,
      "outputs": []
    },
    {
      "cell_type": "code",
      "source": [
        "X_train.shape"
      ],
      "metadata": {
        "colab": {
          "base_uri": "https://localhost:8080/"
        },
        "id": "ptiW4AyTPw_v",
        "outputId": "7e149a33-4e71-490f-d4b3-e1f271387f03"
      },
      "execution_count": 12,
      "outputs": [
        {
          "output_type": "execute_result",
          "data": {
            "text/plain": [
              "(16512, 8)"
            ]
          },
          "metadata": {},
          "execution_count": 12
        }
      ]
    },
    {
      "cell_type": "code",
      "source": [
        "model = Sequential()\n",
        "model.add(layers.Dense(64, activation = 'relu', input_shape = (8,)))\n",
        "model.add(layers.Dense(128, activation = 'relu'))\n",
        "model.add(layers.Dropout(0.2))\n",
        "model.add(layers.Dense(64, activation = 'relu'))\n",
        "model.add(layers.Dropout(0.2))\n",
        "model.add(layers.Dense(32, activation = 'relu'))\n",
        "# model.add(layers.Dense(16, activation = 'relu'))\n",
        "model.add(layers.Dense(1, activation = 'linear'))"
      ],
      "metadata": {
        "id": "_JtE6HAVP7yZ"
      },
      "execution_count": 46,
      "outputs": []
    },
    {
      "cell_type": "code",
      "source": [
        "model.summary()"
      ],
      "metadata": {
        "colab": {
          "base_uri": "https://localhost:8080/"
        },
        "id": "-zUzs-2xQVl7",
        "outputId": "d99a50a5-8855-478e-ee6e-fe9e8b1a885b"
      },
      "execution_count": 47,
      "outputs": [
        {
          "output_type": "stream",
          "name": "stdout",
          "text": [
            "Model: \"sequential_6\"\n",
            "_________________________________________________________________\n",
            " Layer (type)                Output Shape              Param #   \n",
            "=================================================================\n",
            " dense_27 (Dense)            (None, 64)                576       \n",
            "                                                                 \n",
            " dense_28 (Dense)            (None, 128)               8320      \n",
            "                                                                 \n",
            " dropout (Dropout)           (None, 128)               0         \n",
            "                                                                 \n",
            " dense_29 (Dense)            (None, 64)                8256      \n",
            "                                                                 \n",
            " dropout_1 (Dropout)         (None, 64)                0         \n",
            "                                                                 \n",
            " dense_30 (Dense)            (None, 32)                2080      \n",
            "                                                                 \n",
            " dense_31 (Dense)            (None, 1)                 33        \n",
            "                                                                 \n",
            "=================================================================\n",
            "Total params: 19265 (75.25 KB)\n",
            "Trainable params: 19265 (75.25 KB)\n",
            "Non-trainable params: 0 (0.00 Byte)\n",
            "_________________________________________________________________\n"
          ]
        }
      ]
    },
    {
      "cell_type": "code",
      "source": [
        "model.compile(optimizer=\"adam\", loss=\"mse\",metrics=[\"mse\"])"
      ],
      "metadata": {
        "id": "G0I94x-MQpOl"
      },
      "execution_count": 48,
      "outputs": []
    },
    {
      "cell_type": "code",
      "source": [
        "history = model.fit(X_train,y_train,epochs=25,validation_split=0.2)"
      ],
      "metadata": {
        "colab": {
          "base_uri": "https://localhost:8080/"
        },
        "id": "I59VKNV6RPp0",
        "outputId": "ef1b1658-5c94-49f4-e24d-a8367a6f3d97"
      },
      "execution_count": 49,
      "outputs": [
        {
          "output_type": "stream",
          "name": "stdout",
          "text": [
            "Epoch 1/25\n",
            "413/413 [==============================] - 2s 3ms/step - loss: 251.3395 - mse: 251.3395 - val_loss: 4.1277 - val_mse: 4.1277\n",
            "Epoch 2/25\n",
            "413/413 [==============================] - 3s 7ms/step - loss: 6.6507 - mse: 6.6507 - val_loss: 3.4045 - val_mse: 3.4045\n",
            "Epoch 3/25\n",
            "413/413 [==============================] - 1s 3ms/step - loss: 3.0690 - mse: 3.0690 - val_loss: 1.6236 - val_mse: 1.6236\n",
            "Epoch 4/25\n",
            "413/413 [==============================] - 1s 3ms/step - loss: 1.8334 - mse: 1.8334 - val_loss: 1.4100 - val_mse: 1.4100\n",
            "Epoch 5/25\n",
            "413/413 [==============================] - 1s 2ms/step - loss: 1.5565 - mse: 1.5565 - val_loss: 1.3794 - val_mse: 1.3794\n",
            "Epoch 6/25\n",
            "413/413 [==============================] - 1s 2ms/step - loss: 1.5065 - mse: 1.5065 - val_loss: 1.3664 - val_mse: 1.3664\n",
            "Epoch 7/25\n",
            "413/413 [==============================] - 1s 2ms/step - loss: 1.4222 - mse: 1.4222 - val_loss: 1.3231 - val_mse: 1.3231\n",
            "Epoch 8/25\n",
            "413/413 [==============================] - 1s 2ms/step - loss: 1.4051 - mse: 1.4051 - val_loss: 1.3542 - val_mse: 1.3542\n",
            "Epoch 9/25\n",
            "413/413 [==============================] - 1s 2ms/step - loss: 1.3472 - mse: 1.3472 - val_loss: 1.2867 - val_mse: 1.2867\n",
            "Epoch 10/25\n",
            "413/413 [==============================] - 1s 2ms/step - loss: 1.3314 - mse: 1.3314 - val_loss: 1.2135 - val_mse: 1.2135\n",
            "Epoch 11/25\n",
            "413/413 [==============================] - 1s 2ms/step - loss: 1.2368 - mse: 1.2368 - val_loss: 1.2392 - val_mse: 1.2392\n",
            "Epoch 12/25\n",
            "413/413 [==============================] - 1s 2ms/step - loss: 1.0829 - mse: 1.0829 - val_loss: 0.8008 - val_mse: 0.8008\n",
            "Epoch 13/25\n",
            "413/413 [==============================] - 1s 3ms/step - loss: 0.9449 - mse: 0.9449 - val_loss: 0.7307 - val_mse: 0.7307\n",
            "Epoch 14/25\n",
            "413/413 [==============================] - 2s 4ms/step - loss: 1.1032 - mse: 1.1032 - val_loss: 0.8523 - val_mse: 0.8523\n",
            "Epoch 15/25\n",
            "413/413 [==============================] - 1s 3ms/step - loss: 0.9361 - mse: 0.9361 - val_loss: 0.9944 - val_mse: 0.9944\n",
            "Epoch 16/25\n",
            "413/413 [==============================] - 1s 2ms/step - loss: 0.9467 - mse: 0.9467 - val_loss: 0.7909 - val_mse: 0.7909\n",
            "Epoch 17/25\n",
            "413/413 [==============================] - 1s 3ms/step - loss: 0.8581 - mse: 0.8581 - val_loss: 0.7066 - val_mse: 0.7066\n",
            "Epoch 18/25\n",
            "413/413 [==============================] - 1s 2ms/step - loss: 0.8669 - mse: 0.8669 - val_loss: 0.8213 - val_mse: 0.8213\n",
            "Epoch 19/25\n",
            "413/413 [==============================] - 1s 2ms/step - loss: 0.7810 - mse: 0.7810 - val_loss: 0.6792 - val_mse: 0.6792\n",
            "Epoch 20/25\n",
            "413/413 [==============================] - 1s 2ms/step - loss: 0.8575 - mse: 0.8575 - val_loss: 0.7028 - val_mse: 0.7028\n",
            "Epoch 21/25\n",
            "413/413 [==============================] - 1s 2ms/step - loss: 0.8251 - mse: 0.8251 - val_loss: 0.8130 - val_mse: 0.8130\n",
            "Epoch 22/25\n",
            "413/413 [==============================] - 1s 2ms/step - loss: 0.8150 - mse: 0.8150 - val_loss: 0.9049 - val_mse: 0.9049\n",
            "Epoch 23/25\n",
            "413/413 [==============================] - 1s 2ms/step - loss: 0.8461 - mse: 0.8461 - val_loss: 0.7580 - val_mse: 0.7580\n",
            "Epoch 24/25\n",
            "413/413 [==============================] - 1s 3ms/step - loss: 0.8538 - mse: 0.8538 - val_loss: 0.6763 - val_mse: 0.6763\n",
            "Epoch 25/25\n",
            "413/413 [==============================] - 2s 4ms/step - loss: 0.8267 - mse: 0.8267 - val_loss: 0.8732 - val_mse: 0.8732\n"
          ]
        }
      ]
    },
    {
      "cell_type": "code",
      "source": [
        "import matplotlib.pyplot as plt\n",
        "def plot_history(history, key):\n",
        "  plt.plot(history.history[key])\n",
        "  plt.plot(history.history['val_'+key])\n",
        "  plt.xlabel(\"Epochs\")\n",
        "  plt.ylabel(key)\n",
        "  plt.legend([key, 'val_'+key])\n",
        "  plt.show()"
      ],
      "metadata": {
        "id": "KN8_3lDYRV4Z"
      },
      "execution_count": 50,
      "outputs": []
    },
    {
      "cell_type": "code",
      "source": [
        "plot_history(history, \"mse\")"
      ],
      "metadata": {
        "colab": {
          "base_uri": "https://localhost:8080/",
          "height": 449
        },
        "id": "hy1qlQyVSWWs",
        "outputId": "95f8e05b-4e0d-4ec0-cb10-27496b5a3ef7"
      },
      "execution_count": 51,
      "outputs": [
        {
          "output_type": "display_data",
          "data": {
            "text/plain": [
              "<Figure size 640x480 with 1 Axes>"
            ],
            "image/png": "[encoded data removed]"
          },
          "metadata": {}
        }
      ]
    },
    {
      "cell_type": "code",
      "source": [
        "from sklearn.metrics import r2_score,mean_absolute_error,mean_squared_error\n",
        "import numpy as np\n",
        "def evaluate_model(true, predicted):\n",
        "    mae = mean_absolute_error(true, predicted)\n",
        "    mse = mean_squared_error(true, predicted)\n",
        "    rmse = np.sqrt(mean_squared_error(true, predicted))\n",
        "    r2_square = r2_score(true, predicted)\n",
        "    return mae, rmse, r2_square"
      ],
      "metadata": {
        "id": "b3sXZ786Sa2s"
      },
      "execution_count": 52,
      "outputs": []
    },
    {
      "cell_type": "code",
      "source": [
        "evaluate_model(y_test, model.predict(X_test))"
      ],
      "metadata": {
        "colab": {
          "base_uri": "https://localhost:8080/"
        },
        "id": "bWLSvXIWTVN0",
        "outputId": "68d3157c-8f86-4d5c-af6e-96367cb545df"
      },
      "execution_count": 53,
      "outputs": [
        {
          "output_type": "stream",
          "name": "stdout",
          "text": [
            "129/129 [==============================] - 1s 2ms/step\n"
          ]
        },
        {
          "output_type": "execute_result",
          "data": {
            "text/plain": [
              "(0.7065674195477204, 0.9519619507044346, 0.3358753101362384)"
            ]
          },
          "metadata": {},
          "execution_count": 53
        }
      ]
    },
    {
      "cell_type": "code",
      "source": [],
      "metadata": {
        "id": "mz8WmoF9TcXA"
      },
      "execution_count": null,
      "outputs": []
    }
  ]
}